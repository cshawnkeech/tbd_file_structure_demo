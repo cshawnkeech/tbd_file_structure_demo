{
 "cells": [
  {
   "cell_type": "markdown",
   "metadata": {},
   "source": [
    "# EDA Repository Considerations\n",
    "\n",
    "## Your README file\n",
    "\n",
    "It is important to create a repository that delivers a clear narrative describing your process and results. Your repository should include foremost a `README.md` file that provides that overview with illustrations that support findings, and descriptions of any processes along the way: data preparation, calculations, lines of inquiry and insights.\n"
   ]
  },
  {
   "cell_type": "markdown",
   "metadata": {},
   "source": [
    "\n",
    "## Repository directory structure\n",
    "\n",
    "Consumers of your project, stakeholders, \"future you\", or anyone who wishes to reproduce your results should also find your project repository organized in a sensible and somewhat-standard fashion.\n",
    "\n",
    "Below is a fairly standard EDA structure.\n",
    "\n",
    "|              |                                                |\n",
    "| -----------  | ---------------------------------------------- |\n",
    "| 📂 data      | for dataset                                    |\n",
    "| 📂 img       | for plots & illustrations                      |\n",
    "| 📂 notebooks | for Jupyter notebooks                          |\n",
    "| 📂 src       | for `.py` script files                         |\n",
    "| README.md    | your report for people viewing your repository |\n",
    "| .gitignore   | to keep cruft from your nice clean repo!       |\n",
    "\n"
   ]
  },
  {
   "cell_type": "markdown",
   "metadata": {},
   "source": [
    "## Importing scripts with this structure\n",
    "\n",
    "There are a few quirks of importing and running Python script files in\n",
    "Jupyter notebooks that should be mentioned in order to keep things\n",
    "running smoothly for your group.\n",
    "\n",
    "Under normal circumstances, all of your import statements would be here\n",
    "at the top of the notebook. Here, imports have been placed as they are discussed for demonstration purposes."
   ]
  },
  {
   "cell_type": "markdown",
   "metadata": {},
   "source": [
    "### Standard Library Imports\n",
    "\n",
    "Any library you already have installed in your environment (such as Pandas, Numpy, Matplotlib, or Seaborn) will remain available as usual."
   ]
  },
  {
   "cell_type": "code",
   "execution_count": 15,
   "metadata": {},
   "outputs": [],
   "source": [
    "# Imports\n",
    "import pandas as pd"
   ]
  },
  {
   "cell_type": "code",
   "execution_count": 16,
   "metadata": {},
   "outputs": [
    {
     "name": "stdout",
     "output_type": "stream",
     "text": [
      "grades.csv\n"
     ]
    }
   ],
   "source": [
    "! ls ../data"
   ]
  },
  {
   "cell_type": "code",
   "execution_count": 17,
   "metadata": {},
   "outputs": [],
   "source": [
    "# Import grades.csv\n",
    "grades_df = pd.read_csv(\n",
    "    \"../data/grades.csv\",\n",
    "    index_col=\"Student\"\n",
    ")"
   ]
  },
  {
   "cell_type": "code",
   "execution_count": 18,
   "metadata": {},
   "outputs": [
    {
     "data": {
      "text/html": [
       "<div>\n",
       "<style scoped>\n",
       "    .dataframe tbody tr th:only-of-type {\n",
       "        vertical-align: middle;\n",
       "    }\n",
       "\n",
       "    .dataframe tbody tr th {\n",
       "        vertical-align: top;\n",
       "    }\n",
       "\n",
       "    .dataframe thead th {\n",
       "        text-align: right;\n",
       "    }\n",
       "</style>\n",
       "<table border=\"1\" class=\"dataframe\">\n",
       "  <thead>\n",
       "    <tr style=\"text-align: right;\">\n",
       "      <th></th>\n",
       "      <th>Math</th>\n",
       "      <th>English</th>\n",
       "      <th>Gym</th>\n",
       "    </tr>\n",
       "    <tr>\n",
       "      <th>Student</th>\n",
       "      <th></th>\n",
       "      <th></th>\n",
       "      <th></th>\n",
       "    </tr>\n",
       "  </thead>\n",
       "  <tbody>\n",
       "    <tr>\n",
       "      <th>Sanjay</th>\n",
       "      <td>83</td>\n",
       "      <td>87</td>\n",
       "      <td>84</td>\n",
       "    </tr>\n",
       "    <tr>\n",
       "      <th>Sally</th>\n",
       "      <td>93</td>\n",
       "      <td>97</td>\n",
       "      <td>94</td>\n",
       "    </tr>\n",
       "    <tr>\n",
       "      <th>Edgar</th>\n",
       "      <td>73</td>\n",
       "      <td>77</td>\n",
       "      <td>74</td>\n",
       "    </tr>\n",
       "  </tbody>\n",
       "</table>\n",
       "</div>"
      ],
      "text/plain": [
       "         Math  English  Gym\n",
       "Student                    \n",
       "Sanjay     83       87   84\n",
       "Sally      93       97   94\n",
       "Edgar      73       77   74"
      ]
     },
     "execution_count": 18,
     "metadata": {},
     "output_type": "execute_result"
    }
   ],
   "source": [
    "# Display grades_df\n",
    "grades_df"
   ]
  },
  {
   "cell_type": "code",
   "execution_count": 19,
   "metadata": {},
   "outputs": [
    {
     "name": "stdout",
     "output_type": "stream",
     "text": [
      "<class 'pandas.core.frame.DataFrame'>\n",
      "Index: 3 entries, Sanjay to Edgar\n",
      "Data columns (total 3 columns):\n",
      " #   Column   Non-Null Count  Dtype\n",
      "---  ------   --------------  -----\n",
      " 0   Math     3 non-null      int64\n",
      " 1   English  3 non-null      int64\n",
      " 2   Gym      3 non-null      int64\n",
      "dtypes: int64(3)\n",
      "memory usage: 96.0+ bytes\n"
     ]
    }
   ],
   "source": [
    "# Check info\n",
    "grades_df.info()"
   ]
  },
  {
   "cell_type": "markdown",
   "metadata": {},
   "source": [
    "### Not importing: running a file in another directory\n",
    "\n",
    "Once you have created a file in `src`, you will want access to the functions, classes, variables, and other content you have created.\n",
    "\n",
    "You can run Python script files in Jupyter notebooks in much the same way that you run them in iPython.\n",
    "\n",
    "As the file is run as `\"__main__\"` in this fashion, an `if __name__ == \"__main__\"` block will run using this method.\n",
    "\n",
    "Note:  \n",
    "> Oddly, adding a Python-style comment above this line of code causes the block to fail."
   ]
  },
  {
   "cell_type": "code",
   "execution_count": 20,
   "metadata": {},
   "outputs": [
    {
     "name": "stdout",
     "output_type": "stream",
     "text": [
      "I was the main file!\n",
      "5 doubled equals 10.\n"
     ]
    }
   ],
   "source": [
    "run ../src/double_file"
   ]
  },
  {
   "cell_type": "code",
   "execution_count": 21,
   "metadata": {},
   "outputs": [
    {
     "data": {
      "text/plain": [
       "40"
      ]
     },
     "execution_count": 21,
     "metadata": {},
     "output_type": "execute_result"
    }
   ],
   "source": [
    "# The function double is now available for use\n",
    "double(20)"
   ]
  },
  {
   "cell_type": "markdown",
   "metadata": {},
   "source": [
    "### Importing from within the same directory\n",
    "\n",
    "Importing from a Python script file within the same directory works much as you would expect it to.\n",
    "\n",
    "Unfortunately, this makes your folder organization untidy at best. Although it's demonstrated here, it's not suggested."
   ]
  },
  {
   "cell_type": "code",
   "execution_count": 22,
   "metadata": {},
   "outputs": [],
   "source": [
    "# import from the same directory\n",
    "import in_folder"
   ]
  },
  {
   "cell_type": "code",
   "execution_count": 23,
   "metadata": {},
   "outputs": [
    {
     "name": "stdout",
     "output_type": "stream",
     "text": [
      "I am inside this directory\n"
     ]
    }
   ],
   "source": [
    "in_folder.inside()"
   ]
  },
  {
   "cell_type": "markdown",
   "metadata": {},
   "source": [
    "### Traversing to another directory to run code\n",
    "\n",
    "You can traverse to another directory to run code as well. Also demonstrated here but not suggested."
   ]
  },
  {
   "cell_type": "code",
   "execution_count": 24,
   "metadata": {},
   "outputs": [
    {
     "name": "stdout",
     "output_type": "stream",
     "text": [
      "/Users/shawnkeech/daimil10/case_studies/tbd_file_structure_demo/notebooks\n",
      "\u001b[1m\u001b[36m__pycache__\u001b[m\u001b[m           double_file.py\n",
      "added_to_path_file.py traversed_file.py\n"
     ]
    }
   ],
   "source": [
    "# you can run unix-style commands\n",
    "# if you have multiple, start with !\n",
    "\n",
    "# print current dir\n",
    "! pwd\n",
    "\n",
    "# look at what's up one level and inside src\n",
    "! ls ../src"
   ]
  },
  {
   "cell_type": "code",
   "execution_count": 25,
   "metadata": {},
   "outputs": [
    {
     "ename": "SyntaxError",
     "evalue": "invalid syntax (1533412488.py, line 1)",
     "output_type": "error",
     "traceback": [
      "\u001b[0;36m  Input \u001b[0;32mIn [25]\u001b[0;36m\u001b[0m\n\u001b[0;31m    cd ../src\u001b[0m\n\u001b[0m        ^\u001b[0m\n\u001b[0;31mSyntaxError\u001b[0m\u001b[0;31m:\u001b[0m invalid syntax\n"
     ]
    }
   ],
   "source": [
    "cd ../src\n",
    "\n",
    "# confirm contents of file\n",
    "! ls"
   ]
  },
  {
   "cell_type": "code",
   "execution_count": null,
   "metadata": {},
   "outputs": [
    {
     "ename": "ModuleNotFoundError",
     "evalue": "No module named 'traversed_file'",
     "output_type": "error",
     "traceback": [
      "\u001b[0;31m---------------------------------------------------------------------------\u001b[0m",
      "\u001b[0;31mModuleNotFoundError\u001b[0m                       Traceback (most recent call last)",
      "\u001b[1;32m/Users/shawnkeech/daimil10/case_studies/tbd_file_structure_demo/notebooks/demo.ipynb Cell 18\u001b[0m in \u001b[0;36m<cell line: 1>\u001b[0;34m()\u001b[0m\n\u001b[0;32m----> <a href='vscode-notebook-cell:/Users/shawnkeech/daimil10/case_studies/tbd_file_structure_demo/notebooks/demo.ipynb#X35sZmlsZQ%3D%3D?line=0'>1</a>\u001b[0m \u001b[39mimport\u001b[39;00m \u001b[39mtraversed_file\u001b[39;00m\n",
      "\u001b[0;31mModuleNotFoundError\u001b[0m: No module named 'traversed_file'"
     ]
    }
   ],
   "source": [
    "import traversed_file"
   ]
  },
  {
   "cell_type": "code",
   "execution_count": null,
   "metadata": {},
   "outputs": [
    {
     "name": "stdout",
     "output_type": "stream",
     "text": [
      "I traversed to get here.\n"
     ]
    }
   ],
   "source": [
    "traversed_file.traversed()"
   ]
  },
  {
   "cell_type": "code",
   "execution_count": null,
   "metadata": {},
   "outputs": [],
   "source": [
    "# getting back to notebooks directory \n",
    "# for the purpose of demonstration\n",
    "\n",
    "! cd ../notebooks"
   ]
  },
  {
   "cell_type": "markdown",
   "metadata": {},
   "source": [
    "## A better way to do imports: adding `src` to the path\n",
    "\n",
    "There's a quick and easy way to add the `src` directory to the path. Once\n",
    "this is done, you may import files easily."
   ]
  },
  {
   "cell_type": "code",
   "execution_count": null,
   "metadata": {},
   "outputs": [],
   "source": [
    "# This would normally be at the top of the notebook\n",
    "# with the other imports\n",
    "import sys\n",
    "sys.path.insert(0, '../src')"
   ]
  },
  {
   "cell_type": "code",
   "execution_count": null,
   "metadata": {},
   "outputs": [],
   "source": [
    "# importing a file inside src\n",
    "import added_to_path_file"
   ]
  },
  {
   "cell_type": "code",
   "execution_count": null,
   "metadata": {},
   "outputs": [
    {
     "data": {
      "text/plain": [
       "10"
      ]
     },
     "execution_count": 33,
     "metadata": {},
     "output_type": "execute_result"
    }
   ],
   "source": [
    "triple(5)"
   ]
  },
  {
   "cell_type": "code",
   "execution_count": null,
   "metadata": {},
   "outputs": [
    {
     "data": {
      "text/html": [
       "<div>\n",
       "<style scoped>\n",
       "    .dataframe tbody tr th:only-of-type {\n",
       "        vertical-align: middle;\n",
       "    }\n",
       "\n",
       "    .dataframe tbody tr th {\n",
       "        vertical-align: top;\n",
       "    }\n",
       "\n",
       "    .dataframe thead th {\n",
       "        text-align: right;\n",
       "    }\n",
       "</style>\n",
       "<table border=\"1\" class=\"dataframe\">\n",
       "  <thead>\n",
       "    <tr style=\"text-align: right;\">\n",
       "      <th></th>\n",
       "      <th>Math</th>\n",
       "      <th>English</th>\n",
       "      <th>Gym</th>\n",
       "    </tr>\n",
       "    <tr>\n",
       "      <th>Student</th>\n",
       "      <th></th>\n",
       "      <th></th>\n",
       "      <th></th>\n",
       "    </tr>\n",
       "  </thead>\n",
       "  <tbody>\n",
       "    <tr>\n",
       "      <th>Sanjay</th>\n",
       "      <td>166</td>\n",
       "      <td>174</td>\n",
       "      <td>168</td>\n",
       "    </tr>\n",
       "    <tr>\n",
       "      <th>Sally</th>\n",
       "      <td>186</td>\n",
       "      <td>194</td>\n",
       "      <td>188</td>\n",
       "    </tr>\n",
       "    <tr>\n",
       "      <th>Edgar</th>\n",
       "      <td>146</td>\n",
       "      <td>154</td>\n",
       "      <td>148</td>\n",
       "    </tr>\n",
       "  </tbody>\n",
       "</table>\n",
       "</div>"
      ],
      "text/plain": [
       "         Math  English  Gym\n",
       "Student                    \n",
       "Sanjay    166      174  168\n",
       "Sally     186      194  188\n",
       "Edgar     146      154  148"
      ]
     },
     "execution_count": 34,
     "metadata": {},
     "output_type": "execute_result"
    }
   ],
   "source": [
    "# triple is now available\n",
    "triple(grades_df)"
   ]
  },
  {
   "cell_type": "code",
   "execution_count": null,
   "metadata": {},
   "outputs": [
    {
     "data": {
      "text/plain": [
       "Student\n",
       "Sanjay    168\n",
       "Sally     188\n",
       "Edgar     148\n",
       "Name: Gym, dtype: int64"
      ]
     },
     "execution_count": 35,
     "metadata": {},
     "output_type": "execute_result"
    }
   ],
   "source": [
    "grades_df['Gym'].apply(double)"
   ]
  },
  {
   "cell_type": "markdown",
   "metadata": {},
   "source": [
    "## Conclusion\n",
    "\n",
    "For a clean repository, keep a nice file structure.\n",
    "\n",
    "|              |                                                |\n",
    "| -----------  | ---------------------------------------------- |\n",
    "| 📂 data      | for dataset                                    |\n",
    "| 📂 img       | for plots & illustrations                      |\n",
    "| 📂 notebooks | for Jupyter notebooks                          |\n",
    "| 📂 src       | for `.py` script files                         |\n",
    "| README.md    | your report for people viewing your repository |\n",
    "| .gitignore   | to keep cruft from your nice clean repo!       |\n",
    "\n",
    "\n",
    "Use the `run` command to run your Python scripts or add the `src` directory to the path and import your functions.\n"
   ]
  }
 ],
 "metadata": {
  "kernelspec": {
   "display_name": "Python 3.8.13 ('base')",
   "language": "python",
   "name": "python3"
  },
  "language_info": {
   "codemirror_mode": {
    "name": "ipython",
    "version": 3
   },
   "file_extension": ".py",
   "mimetype": "text/x-python",
   "name": "python",
   "nbconvert_exporter": "python",
   "pygments_lexer": "ipython3",
   "version": "3.8.13"
  },
  "orig_nbformat": 4,
  "vscode": {
   "interpreter": {
    "hash": "40d3a090f54c6569ab1632332b64b2c03c39dcf918b08424e98f38b5ae0af88f"
   }
  }
 },
 "nbformat": 4,
 "nbformat_minor": 2
}
